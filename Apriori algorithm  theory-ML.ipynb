{
 "cells": [
  {
   "attachments": {},
   "cell_type": "markdown",
   "id": "bdf73f2d-c279-434f-bbf4-0cc6bd3f232b",
   "metadata": {},
   "source": [
    "# Apriori Algorithm?\n",
    "   Apriori Algorithm is a frequent pattern mining algorithm that is used in association rule learning. It is wiely used in market basket\n",
    "   analysis to find associations and relationships between items in large datasets of transactions\n",
    "\n",
    "How Apriori Algorithm works?\n",
    "1. It identify all frequent individual items in a dataset.\n",
    "2. Then it extend them to larger item sets as long as those item sets appear frequently enough in the data.\n",
    "3. Then it use the frequent item sets to generate association rules."
   ]
  },
  {
   "cell_type": "markdown",
   "id": "3d1b69be-981a-4b25-8d2e-e5eb3ab4c6d5",
   "metadata": {},
   "source": [
    "# Key-Metrics\n",
    "\n",
    "1. Support -> How frequently an item set appears in the data set. It measures the how popular rule is.\n",
    "\n",
    "(support of A to B = transactions containing A U B / total transactions)\n",
    "\n",
    "2. Confidence -> How often item in b appear in transaction that contain a. It measures the strength of implimentation . Hig\n",
    "confidence means when A occurs B often occurs too.\n",
    "\n",
    "(confidence of A to B = Support of A U B / support of A)\n",
    "\n",
    "3. Lift -> How much more often A and B occur together than expected if they were statistically independent.\n",
    "\n",
    "(Lift of A to B = Confidence of A to B / Support of B)\n",
    "\n",
    "If lift > 1, it means positive corelation\n",
    "\n",
    "If lift = 1, it means no corelation\n",
    "\n",
    "If lift < 1, means negative corelation"
   ]
  },
  {
   "cell_type": "markdown",
   "id": "85f9553e-aafd-4d7f-af39-345e07a96a09",
   "metadata": {},
   "source": [
    "# Table and Analysis\n",
    "\n",
    "#TRANS_ID    ITEMS_BOUGHT\n",
    "\n",
    "#1           milk and bread\n",
    "\n",
    "#2         milk bread and butter\n",
    "\n",
    "#3          bread and butter\n",
    "\n",
    "#4            milk and butter\n",
    "\n",
    "#5           Bread\n",
    "\n",
    "#lets analyze the association rule for milk to butter\n",
    "\n",
    "#Support of milk to butter -> 2/5 -> 40% chance of getting milk and butter together\n",
    "\n",
    "#Confidence -> Along all transaction of milk how many also have butter\n",
    "#confidence of milk to butter -- > 2/3 = 0.67 -> 67%\n",
    "\n",
    "#Lift -> How much more likely someone isto buy butter. If they buy milk compared to just buying butter by itself.\n",
    "#Support of butter = 3/5 = .6 -> 60%\n",
    "#Lift of milk to butter = confidence / support of butter = 0.67 / 0.6 = 1.11\n",
    "\n",
    "#Lift = 1.11, means milk buyers are 11% more likely to buy butter than general customers."
   ]
  },
  {
   "cell_type": "markdown",
   "id": "1b77cc1a-c632-4561-8655-0b22fd60e97c",
   "metadata": {},
   "source": [
    "# Limitations:\n",
    "High computational cost for large datasets\n",
    "\n",
    "Generates many candidate itemsets (slow)\n",
    "\n",
    "Multiple database scans required\n",
    "\n",
    "Not suitable for numerical data without conversion\n",
    "\n",
    "Generates too many trivial or redundant rules\n"
   ]
  },
  {
   "cell_type": "code",
   "execution_count": null,
   "id": "a1698a74-3cf9-44f3-abdb-4f6171bd4643",
   "metadata": {},
   "outputs": [],
   "source": []
  }
 ],
 "metadata": {
  "kernelspec": {
   "display_name": "Python 3 (ipykernel)",
   "language": "python",
   "name": "python3"
  },
  "language_info": {
   "codemirror_mode": {
    "name": "ipython",
    "version": 3
   },
   "file_extension": ".py",
   "mimetype": "text/x-python",
   "name": "python",
   "nbconvert_exporter": "python",
   "pygments_lexer": "ipython3",
   "version": "3.13.3"
  }
 },
 "nbformat": 4,
 "nbformat_minor": 5
}
