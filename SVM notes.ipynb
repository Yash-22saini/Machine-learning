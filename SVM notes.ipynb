{
 "cells": [
  {
   "cell_type": "markdown",
   "id": "476e1b07-7f06-4d04-8677-a58fdaf088da",
   "metadata": {},
   "source": [
    "# SVM - support vector machine\n",
    "It is a supervised ML algorithm that is used for both classification and regression task.\n",
    "It is  particularly effecting in dealing with complex and high dimensional data set.\n",
    "The fundamental principal of SVM is to find an optimal hyperplane that maximly separates different classes in the input space .\n",
    "\n",
    "How SVM woks?\n",
    "1. First of all we will prepare our data set.\n",
    "2.  SVM requires labelled training data consisting of input features and corresponding class labels. \n",
    "3. Each data point is represented as a feature vector , where each features describe a particuar characteristics of a data point.\n",
    "4. The data points should be pre processed and scaled to ensure the features are on similar sacles typically between 0 and 1.\n"
   ]
  },
  {
   "cell_type": "markdown",
   "id": "64e1e869-3fca-478e-9642-fde1c7725c4e",
   "metadata": {},
   "source": [
    "# --  Hyper plane and margin\n",
    " \n",
    "1 .SVM aims to find a hyper plane that best separates the different classes in the feature space.\n",
    "\n",
    "2.In a binary classification problem the hyper plane is a line in  a 2d space or in a higher dimensional space.\n",
    "\n",
    "3. SVM seeks to maximise the margin ( which is the distance between the hyperplane and the nearest data -points in the each class ) between the two classes.\n",
    "   \n",
    "4.The points on the margin are known as support vectors and play a crucial role in defining the decision boundary."
   ]
  },
  {
   "cell_type": "markdown",
   "id": "f62f47d9-ab3c-4c7f-b636-b23abb05d532",
   "metadata": {},
   "source": [
    "# -- LINEAR SVM\n",
    "1. The Linear SVM finds a linear hyper plane that separates the classes.\n",
    "\n",
    "2. The goal is to find the hyperplane that maximizes the margin while minimizing the misclassification of training  examples.\n",
    "\n",
    "3. Mathematically this can be formulated as a optimization problem with the objective of minimizing the weights the hyperplane subject to the constraint that all the training examples\n",
    "lie on the correct side of the hyper plane."
   ]
  },
  {
   "cell_type": "markdown",
   "id": "4be1f6d4-57cc-4cbf-b18c-76b808f300c4",
   "metadata": {},
   "source": [
    "# -- NON-LINEAR SVM\n",
    "In cases where data is not linearly separable, SVM uses a technique called a kernal trick. \n",
    "\n",
    "The kernal trick maps the original input sapce into a higher dimensional feature space where the data points can be linearly separable.\n",
    "\n",
    "The choice of the kernal depends on the characteristics of the data and the problem at hand.\n",
    "    "
   ]
  },
  {
   "cell_type": "markdown",
   "id": "ae96802e-8590-445a-b097-98194a403e17",
   "metadata": {
    "jp-MarkdownHeadingCollapsed": true
   },
   "source": [
    "# -- Training of SVM \n",
    "It involves finding the optimal hyper plane or decision boundary that separates the classes. \n",
    "\n",
    "The optimization problem is typically solved using methods such as Quadratic programming or Sequential minimal optimization.\n",
    "\n",
    "The process involves solving for the weighs and the bias if the hyper plane that maximiza the margin between the classes which defines the decision boundary.\n",
    "\n",
    "The objective is to minimize the regularization term while ensuring that the training examples are correctly classified.    \n",
    "\n",
    "    "
   ]
  },
  {
   "cell_type": "markdown",
   "id": "73dc1d23-0401-49c7-823e-dfbb23bd976d",
   "metadata": {},
   "source": [
    "# --Prediction of SVM \n",
    "Once the SVM model is trained it can be used to predict the class labels of new unseen data points.\n",
    "\n",
    "This algorithm computes the distance from the test point to the decision boundary.\n",
    "\n",
    "The predicted class label is determined based on which side of the decision boundary the point lies.\n",
    "\n",
    "The decision function can also provide a confidence score or probability estimate for the prediction."
   ]
  },
  {
   "cell_type": "code",
   "execution_count": null,
   "id": "5c5ecf29-f5e2-4ba4-8861-39a5b9de1521",
   "metadata": {},
   "outputs": [],
   "source": []
  }
 ],
 "metadata": {
  "kernelspec": {
   "display_name": "Python 3 (ipykernel)",
   "language": "python",
   "name": "python3"
  },
  "language_info": {
   "codemirror_mode": {
    "name": "ipython",
    "version": 3
   },
   "file_extension": ".py",
   "mimetype": "text/x-python",
   "name": "python",
   "nbconvert_exporter": "python",
   "pygments_lexer": "ipython3",
   "version": "3.13.3"
  }
 },
 "nbformat": 4,
 "nbformat_minor": 5
}
