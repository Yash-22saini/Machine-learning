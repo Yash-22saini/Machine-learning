{
 "cells": [
  {
   "cell_type": "markdown",
   "id": "ca610338-8ef7-46ec-a880-7cde33467066",
   "metadata": {},
   "source": [
    "# APRIORI ALGORITHM - Market basket data"
   ]
  },
  {
   "cell_type": "code",
   "execution_count": 1,
   "id": "01ed49dd-1619-48db-9a78-80406236c489",
   "metadata": {},
   "outputs": [],
   "source": [
    "import numpy as np\n",
    "import pandas as pd"
   ]
  },
  {
   "cell_type": "code",
   "execution_count": null,
   "id": "7e3e99b3-f7e3-49d0-a15f-6d6af4252237",
   "metadata": {},
   "outputs": [],
   "source": []
  }
 ],
 "metadata": {
  "kernelspec": {
   "display_name": "Python 3 (ipykernel)",
   "language": "python",
   "name": "python3"
  },
  "language_info": {
   "codemirror_mode": {
    "name": "ipython",
    "version": 3
   },
   "file_extension": ".py",
   "mimetype": "text/x-python",
   "name": "python",
   "nbconvert_exporter": "python",
   "pygments_lexer": "ipython3",
   "version": "3.13.3"
  }
 },
 "nbformat": 4,
 "nbformat_minor": 5
}
